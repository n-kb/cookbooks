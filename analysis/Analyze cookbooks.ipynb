{
 "cells": [
  {
   "cell_type": "code",
   "execution_count": 1,
   "metadata": {},
   "outputs": [],
   "source": [
    "import pandas as pd\n",
    "import re\n",
    "import numpy as np\n",
    "import matplotlib.pyplot as plt\n",
    "%matplotlib inline"
   ]
  },
  {
   "cell_type": "code",
   "execution_count": 2,
   "metadata": {},
   "outputs": [],
   "source": [
    "df = pd.read_csv(\"FR.csv\")"
   ]
  },
  {
   "cell_type": "code",
   "execution_count": 3,
   "metadata": {},
   "outputs": [
    {
     "data": {
      "text/html": [
       "<div>\n",
       "<style scoped>\n",
       "    .dataframe tbody tr th:only-of-type {\n",
       "        vertical-align: middle;\n",
       "    }\n",
       "\n",
       "    .dataframe tbody tr th {\n",
       "        vertical-align: top;\n",
       "    }\n",
       "\n",
       "    .dataframe thead th {\n",
       "        text-align: right;\n",
       "    }\n",
       "</style>\n",
       "<table border=\"1\" class=\"dataframe\">\n",
       "  <thead>\n",
       "    <tr style=\"text-align: right;\">\n",
       "      <th></th>\n",
       "      <th>title</th>\n",
       "      <th>author</th>\n",
       "      <th>pub_date</th>\n",
       "      <th>text</th>\n",
       "      <th>page_num</th>\n",
       "    </tr>\n",
       "  </thead>\n",
       "  <tbody>\n",
       "    <tr>\n",
       "      <th>0</th>\n",
       "      <td>La cuisine française (3e édition) / par A. Gog...</td>\n",
       "      <td>Gogué, Antoine. Auteur du texte</td>\n",
       "      <td>1865</td>\n",
       "      <td>NaN</td>\n",
       "      <td>2</td>\n",
       "    </tr>\n",
       "    <tr>\n",
       "      <th>1</th>\n",
       "      <td>La cuisine française (3e édition) / par A. Gog...</td>\n",
       "      <td>Gogué, Antoine. Auteur du texte</td>\n",
       "      <td>1865</td>\n",
       "      <td>NaN</td>\n",
       "      <td>3</td>\n",
       "    </tr>\n",
       "    <tr>\n",
       "      <th>2</th>\n",
       "      <td>La cuisine française (3e édition) / par A. Gog...</td>\n",
       "      <td>Gogué, Antoine. Auteur du texte</td>\n",
       "      <td>1865</td>\n",
       "      <td>NaN</td>\n",
       "      <td>4</td>\n",
       "    </tr>\n",
       "    <tr>\n",
       "      <th>3</th>\n",
       "      <td>La cuisine française (3e édition) / par A. Gog...</td>\n",
       "      <td>Gogué, Antoine. Auteur du texte</td>\n",
       "      <td>1865</td>\n",
       "      <td>NaN</td>\n",
       "      <td>5</td>\n",
       "    </tr>\n",
       "    <tr>\n",
       "      <th>4</th>\n",
       "      <td>La cuisine française (3e édition) / par A. Gog...</td>\n",
       "      <td>Gogué, Antoine. Auteur du texte</td>\n",
       "      <td>1865</td>\n",
       "      <td>NaN</td>\n",
       "      <td>6</td>\n",
       "    </tr>\n",
       "    <tr>\n",
       "      <th>...</th>\n",
       "      <td>...</td>\n",
       "      <td>...</td>\n",
       "      <td>...</td>\n",
       "      <td>...</td>\n",
       "      <td>...</td>\n",
       "    </tr>\n",
       "    <tr>\n",
       "      <th>14648</th>\n",
       "      <td>Le guide culinaire</td>\n",
       "      <td>Escoffier, Auguste (1846-1935). Auteur du texte</td>\n",
       "      <td>1912</td>\n",
       "      <td>NaN</td>\n",
       "      <td>986</td>\n",
       "    </tr>\n",
       "    <tr>\n",
       "      <th>14649</th>\n",
       "      <td>Le guide culinaire</td>\n",
       "      <td>Escoffier, Auguste (1846-1935). Auteur du texte</td>\n",
       "      <td>1912</td>\n",
       "      <td>\\ -^' \\ . ^ V &amp;gt; \\ '°*( /, V, &amp;gt; y \\ ' • &amp;...</td>\n",
       "      <td>987</td>\n",
       "    </tr>\n",
       "    <tr>\n",
       "      <th>14650</th>\n",
       "      <td>Le guide culinaire</td>\n",
       "      <td>Escoffier, Auguste (1846-1935). Auteur du texte</td>\n",
       "      <td>1912</td>\n",
       "      <td>&amp;lt;■ f ... * —'. \\ i A ) 1 ^ / - - ^ fs . ' (...</td>\n",
       "      <td>988</td>\n",
       "    </tr>\n",
       "    <tr>\n",
       "      <th>14651</th>\n",
       "      <td>Le guide culinaire</td>\n",
       "      <td>Escoffier, Auguste (1846-1935). Auteur du texte</td>\n",
       "      <td>1912</td>\n",
       "      <td>[texte_manquant]</td>\n",
       "      <td>989</td>\n",
       "    </tr>\n",
       "    <tr>\n",
       "      <th>14652</th>\n",
       "      <td>Le guide culinaire</td>\n",
       "      <td>Escoffier, Auguste (1846-1935). Auteur du texte</td>\n",
       "      <td>1912</td>\n",
       "      <td>NaN</td>\n",
       "      <td>990</td>\n",
       "    </tr>\n",
       "  </tbody>\n",
       "</table>\n",
       "<p>14653 rows × 5 columns</p>\n",
       "</div>"
      ],
      "text/plain": [
       "                                                   title  \\\n",
       "0      La cuisine française (3e édition) / par A. Gog...   \n",
       "1      La cuisine française (3e édition) / par A. Gog...   \n",
       "2      La cuisine française (3e édition) / par A. Gog...   \n",
       "3      La cuisine française (3e édition) / par A. Gog...   \n",
       "4      La cuisine française (3e édition) / par A. Gog...   \n",
       "...                                                  ...   \n",
       "14648                                 Le guide culinaire   \n",
       "14649                                 Le guide culinaire   \n",
       "14650                                 Le guide culinaire   \n",
       "14651                                 Le guide culinaire   \n",
       "14652                                 Le guide culinaire   \n",
       "\n",
       "                                                author  pub_date  \\\n",
       "0                      Gogué, Antoine. Auteur du texte      1865   \n",
       "1                      Gogué, Antoine. Auteur du texte      1865   \n",
       "2                      Gogué, Antoine. Auteur du texte      1865   \n",
       "3                      Gogué, Antoine. Auteur du texte      1865   \n",
       "4                      Gogué, Antoine. Auteur du texte      1865   \n",
       "...                                                ...       ...   \n",
       "14648  Escoffier, Auguste (1846-1935). Auteur du texte      1912   \n",
       "14649  Escoffier, Auguste (1846-1935). Auteur du texte      1912   \n",
       "14650  Escoffier, Auguste (1846-1935). Auteur du texte      1912   \n",
       "14651  Escoffier, Auguste (1846-1935). Auteur du texte      1912   \n",
       "14652  Escoffier, Auguste (1846-1935). Auteur du texte      1912   \n",
       "\n",
       "                                                    text  page_num  \n",
       "0                                                    NaN         2  \n",
       "1                                                    NaN         3  \n",
       "2                                                    NaN         4  \n",
       "3                                                    NaN         5  \n",
       "4                                                    NaN         6  \n",
       "...                                                  ...       ...  \n",
       "14648                                                NaN       986  \n",
       "14649  \\ -^' \\ . ^ V &gt; \\ '°*( /, V, &gt; y \\ ' • &...       987  \n",
       "14650  &lt;■ f ... * —'. \\ i A ) 1 ^ / - - ^ fs . ' (...       988  \n",
       "14651                                  [texte_manquant]        989  \n",
       "14652                                                NaN       990  \n",
       "\n",
       "[14653 rows x 5 columns]"
      ]
     },
     "execution_count": 3,
     "metadata": {},
     "output_type": "execute_result"
    }
   ],
   "source": [
    "df"
   ]
  },
  {
   "cell_type": "code",
   "execution_count": 4,
   "metadata": {},
   "outputs": [],
   "source": [
    "df[\"num_words\"] = df[\"text\"].str.count(\" \")\n",
    "df[\"num_margarine\"] = df[\"text\"].str.count(\"margarine\", re.I)\n",
    "df[\"num_vegetaline\"] = df[\"text\"].str.count(\"v.g.taline|cocose|laur.ol|palmine\", re.I)\n",
    "df[\"num_butter\"] = df[\"text\"].str.count(\"beurre\", re.I)\n",
    "df[\"num_arachide\"] = df[\"text\"].str.count(\"arachide\", re.I)\n",
    "df[\"num_huile\"] = df[\"text\"].str.count(\"huile\", re.I)\n",
    "df[\"num_coco\"] = df[\"text\"].str.count(\"coco[\\s|s|\\.]\", re.I)\n",
    "df[\"num_saindoux\"] = df[\"text\"].str.count(\"saindoux\", re.I)"
   ]
  },
  {
   "cell_type": "code",
   "execution_count": 5,
   "metadata": {},
   "outputs": [],
   "source": [
    "df[\"num_friture\"] = df[\"text\"].str.count(\"frit|frire\", re.I)"
   ]
  },
  {
   "cell_type": "code",
   "execution_count": 48,
   "metadata": {},
   "outputs": [],
   "source": [
    "df[\"num_test\"] = df[\"text\"].str.count(\"lipide|glucide|protéine\", re.I)"
   ]
  },
  {
   "cell_type": "code",
   "execution_count": 49,
   "metadata": {},
   "outputs": [],
   "source": [
    "pivoted_df = pd.pivot_table(df, values=['num_words', \n",
    "                                        'num_butter', \n",
    "                                        'num_friture', \n",
    "                                        'num_saindoux', \n",
    "                                        'num_margarine', \n",
    "                                        'num_huile', \n",
    "                                        'num_arachide', \n",
    "                                        'num_coco',\n",
    "                                        'num_test'], index=['title','pub_date'], aggfunc=np.sum)"
   ]
  },
  {
   "cell_type": "code",
   "execution_count": 50,
   "metadata": {},
   "outputs": [],
   "source": [
    "pivoted_df[\"butter_rel\"] = pivoted_df[\"num_butter\"] / pivoted_df[\"num_words\"]\n",
    "pivoted_df[\"friture_rel\"] = pivoted_df[\"num_friture\"] / pivoted_df[\"num_words\"]\n",
    "pivoted_df[\"saindoux_rel\"] = pivoted_df[\"num_saindoux\"] / pivoted_df[\"num_words\"]\n",
    "pivoted_df[\"margarine_rel\"] = pivoted_df[\"num_margarine\"] / pivoted_df[\"num_words\"]\n",
    "pivoted_df[\"huile_rel\"] = pivoted_df[\"num_huile\"] / pivoted_df[\"num_words\"]\n",
    "pivoted_df[\"arachide_rel\"] = pivoted_df[\"num_arachide\"] / pivoted_df[\"num_words\"]\n",
    "pivoted_df[\"coco_rel\"] = pivoted_df[\"num_coco\"] / pivoted_df[\"num_words\"]\n",
    "pivoted_df[\"test_rel\"] = pivoted_df[\"num_test\"] / pivoted_df[\"num_words\"]"
   ]
  },
  {
   "cell_type": "code",
   "execution_count": 51,
   "metadata": {},
   "outputs": [],
   "source": [
    "pivoted_df[\"date\"] = pivoted_df.index.get_level_values(level=1)"
   ]
  },
  {
   "cell_type": "code",
   "execution_count": 52,
   "metadata": {},
   "outputs": [],
   "source": [
    "def plot_term(axs, row, col, series, title):\n",
    "    axs[row][col].scatter(pivoted_df[\"date\"], pivoted_df[series])\n",
    "    axs[row][col].set_title(title)\n",
    "    z = np.polyfit(pivoted_df[\"date\"], pivoted_df[series], 1)\n",
    "    p = np.poly1d(z)\n",
    "    axs[row][col].plot(pivoted_df[\"date\"],p(pivoted_df[\"date\"]),\"r--\", alpha=.2)"
   ]
  },
  {
   "cell_type": "code",
   "execution_count": 53,
   "metadata": {},
   "outputs": [
    {
     "data": {
      "image/png": "[encoded data removed]",
      "text/plain": [
       "<Figure size 720x720 with 8 Axes>"
      ]
     },
     "metadata": {
      "needs_background": "light"
     },
     "output_type": "display_data"
    }
   ],
   "source": [
    "f, axs = plt.subplots(4, 2, sharey=True, figsize=(10,10))\n",
    "axes = plt.gca()\n",
    "axes.set_ylim([0,0.01])\n",
    "\n",
    "plot_term(axs, 0, 0, \"butter_rel\", \"Beurre\")\n",
    "plot_term(axs, 0, 1, \"friture_rel\", \"Frit, friture...\")\n",
    "plot_term(axs, 1, 0, \"saindoux_rel\", \"Saindoux\")\n",
    "plot_term(axs, 1, 1, \"margarine_rel\", \"Margarine\")\n",
    "plot_term(axs, 2, 0, \"arachide_rel\", \"Arachide\")\n",
    "plot_term(axs, 2, 1, \"coco_rel\", \"Coco\")\n",
    "plot_term(axs, 3, 0, \"test_rel\", \"Graisse\")\n",
    "plot_term(axs, 3, 1, \"huile_rel\", \"Huile\")\n",
    "\n",
    "f.tight_layout()"
   ]
  },
  {
   "cell_type": "code",
   "execution_count": null,
   "metadata": {},
   "outputs": [],
   "source": []
  },
  {
   "cell_type": "code",
   "execution_count": null,
   "metadata": {},
   "outputs": [],
   "source": []
  },
  {
   "cell_type": "code",
   "execution_count": null,
   "metadata": {},
   "outputs": [],
   "source": []
  }
 ],
 "metadata": {
  "kernelspec": {
   "display_name": "Python 3",
   "language": "python",
   "name": "python3"
  },
  "language_info": {
   "codemirror_mode": {
    "name": "ipython",
    "version": 3
   },
   "file_extension": ".py",
   "mimetype": "text/x-python",
   "name": "python",
   "nbconvert_exporter": "python",
   "pygments_lexer": "ipython3",
   "version": "3.6.8"
  }
 },
 "nbformat": 4,
 "nbformat_minor": 2
}
